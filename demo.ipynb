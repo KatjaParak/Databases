{
 "cells": [
  {
   "cell_type": "code",
   "execution_count": 6,
   "id": "84f3decc",
   "metadata": {},
   "outputs": [],
   "source": [
    "from sqlalchemy import create_engine\n",
    "from sqlalchemy.engine import URL\n",
    "from urllib.parse import unquote\n",
    "from getpass import getpass\n",
    "from sqlalchemy import text\n",
    "\n",
    "server_name = \"localhost\"\n",
    "database_name = \"Bookstore\"\n",
    "driver = \"ODBC Driver 18 for SQL Server\"\n",
    "user_name = \"bookstore_user\"\n",
    "pwd = \"123user_password\"\n",
    "connection_string = f\"DRIVER=ODBC Driver 18 for SQL Server;SERVER={server_name};UID={user_name}; PWD={pwd};DATABASE={database_name};TrustServerCertificate=yes;\"\n",
    "url_string = URL.create(\"mssql+pyodbc\", query={\"odbc_connect\": connection_string})\n",
    "\n",
    "engine = create_engine(url_string)"
   ]
  },
  {
   "cell_type": "code",
   "execution_count": 7,
   "id": "4297ba54",
   "metadata": {},
   "outputs": [
    {
     "name": "stdout",
     "output_type": "stream",
     "text": [
      "   id FirstName LastName    Birthday DateOfDeath\n",
      "0   1    George   Orwell  1903-06-25  1950-01-21\n",
      "1   2       Liu    Cixin  1963-06-23        None\n",
      "2   3     Franz    Kafka  1883-07-03  1924-06-03\n"
     ]
    }
   ],
   "source": [
    "import pandas as pd \n",
    "\n",
    "query = text(\"SELECT TOP 3 * FROM Authors\")\n",
    "\n",
    "with engine.connect() as connection:\n",
    "    df = pd.read_sql(query, connection)\n",
    "    print(df)"
   ]
  },
  {
   "cell_type": "code",
   "execution_count": 8,
   "id": "a15b5bdf",
   "metadata": {},
   "outputs": [
    {
     "name": "stdout",
     "output_type": "stream",
     "text": [
      "       Title                 Name  BookshopID  Number of books\n",
      "0  The Trial             Adlibris           2                3\n",
      "1  The Trial  Näckrosen bokhandel           5                1\n"
     ]
    }
   ],
   "source": [
    "# query with user input\n",
    "user_input = input()\n",
    "query = text(\"\"\"\n",
    "    SELECT b.Title, bs.Name,ls.BookshopID, ls.[Number of books]\n",
    "    FROM Bookshops bs\n",
    "    JOIN LagerSaldo ls ON bs.id = ls.BookshopId\n",
    "    JOIN Books b ON ls.ISBN = b.ISBN\n",
    "    WHERE b.Title LIKE :title_to_search\n",
    "\"\"\")\n",
    "\n",
    "params = {\"title_to_search\": f\"%{user_input}%\"}\n",
    "\n",
    "with engine.connect() as connection:\n",
    "    df = pd.read_sql(query, connection, params=params)\n",
    "    print(df)"
   ]
  }
 ],
 "metadata": {
  "kernelspec": {
   "display_name": "Python 3",
   "language": "python",
   "name": "python3"
  },
  "language_info": {
   "codemirror_mode": {
    "name": "ipython",
    "version": 3
   },
   "file_extension": ".py",
   "mimetype": "text/x-python",
   "name": "python",
   "nbconvert_exporter": "python",
   "pygments_lexer": "ipython3",
   "version": "3.12.6"
  }
 },
 "nbformat": 4,
 "nbformat_minor": 5
}
